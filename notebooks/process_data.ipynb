{
 "cells": [
  {
   "cell_type": "code",
   "execution_count": 1,
   "id": "93e69d2d",
   "metadata": {
    "pycharm": {
     "name": "#%%\n"
    }
   },
   "outputs": [],
   "source": [
    "import pandas as pd\n",
    "from ast import literal_eval"
   ]
  },
  {
   "cell_type": "code",
   "execution_count": 2,
   "outputs": [],
   "source": [
    "tracks = pd.read_csv(\"../data/raw/random_tracks.csv\", parse_dates=[\"release_date\"], index_col=0).sort_index()"
   ],
   "metadata": {
    "collapsed": false,
    "pycharm": {
     "name": "#%%\n"
    }
   }
  },
  {
   "cell_type": "code",
   "execution_count": 3,
   "outputs": [
    {
     "data": {
      "text/plain": "                                      artist_1 artist_2 artist_3 artist_4  \\\n8                                  Greg Fieler     None     None     None   \n59                                 Dick Haymes     None     None     None   \n207  Louis Armstrong & His Savoy Ballroom Five     None     None     None   \n208                           Margaret Johnson     None     None     None   \n209                            Louis Armstrong     None     None     None   \n\n    artist_5 artist_6 artist_7 artist_8 artist_9 artist_10 artist_11  \\\n8       None     None     None     None     None      None      None   \n59      None     None     None     None     None      None      None   \n207     None     None     None     None     None      None      None   \n208     None     None     None     None     None      None      None   \n209     None     None     None     None     None      None      None   \n\n    artist_12 artist_13 artist_14 artist_15 artist_16 artist_17 artist_18  \\\n8        None      None      None      None      None      None      None   \n59       None      None      None      None      None      None      None   \n207      None      None      None      None      None      None      None   \n208      None      None      None      None      None      None      None   \n209      None      None      None      None      None      None      None   \n\n    artist_19 artist_20  \n8        None      None  \n59       None      None  \n207      None      None  \n208      None      None  \n209      None      None  ",
      "text/html": "<div>\n<style scoped>\n    .dataframe tbody tr th:only-of-type {\n        vertical-align: middle;\n    }\n\n    .dataframe tbody tr th {\n        vertical-align: top;\n    }\n\n    .dataframe thead th {\n        text-align: right;\n    }\n</style>\n<table border=\"1\" class=\"dataframe\">\n  <thead>\n    <tr style=\"text-align: right;\">\n      <th></th>\n      <th>artist_1</th>\n      <th>artist_2</th>\n      <th>artist_3</th>\n      <th>artist_4</th>\n      <th>artist_5</th>\n      <th>artist_6</th>\n      <th>artist_7</th>\n      <th>artist_8</th>\n      <th>artist_9</th>\n      <th>artist_10</th>\n      <th>artist_11</th>\n      <th>artist_12</th>\n      <th>artist_13</th>\n      <th>artist_14</th>\n      <th>artist_15</th>\n      <th>artist_16</th>\n      <th>artist_17</th>\n      <th>artist_18</th>\n      <th>artist_19</th>\n      <th>artist_20</th>\n    </tr>\n  </thead>\n  <tbody>\n    <tr>\n      <th>8</th>\n      <td>Greg Fieler</td>\n      <td>None</td>\n      <td>None</td>\n      <td>None</td>\n      <td>None</td>\n      <td>None</td>\n      <td>None</td>\n      <td>None</td>\n      <td>None</td>\n      <td>None</td>\n      <td>None</td>\n      <td>None</td>\n      <td>None</td>\n      <td>None</td>\n      <td>None</td>\n      <td>None</td>\n      <td>None</td>\n      <td>None</td>\n      <td>None</td>\n      <td>None</td>\n    </tr>\n    <tr>\n      <th>59</th>\n      <td>Dick Haymes</td>\n      <td>None</td>\n      <td>None</td>\n      <td>None</td>\n      <td>None</td>\n      <td>None</td>\n      <td>None</td>\n      <td>None</td>\n      <td>None</td>\n      <td>None</td>\n      <td>None</td>\n      <td>None</td>\n      <td>None</td>\n      <td>None</td>\n      <td>None</td>\n      <td>None</td>\n      <td>None</td>\n      <td>None</td>\n      <td>None</td>\n      <td>None</td>\n    </tr>\n    <tr>\n      <th>207</th>\n      <td>Louis Armstrong &amp; His Savoy Ballroom Five</td>\n      <td>None</td>\n      <td>None</td>\n      <td>None</td>\n      <td>None</td>\n      <td>None</td>\n      <td>None</td>\n      <td>None</td>\n      <td>None</td>\n      <td>None</td>\n      <td>None</td>\n      <td>None</td>\n      <td>None</td>\n      <td>None</td>\n      <td>None</td>\n      <td>None</td>\n      <td>None</td>\n      <td>None</td>\n      <td>None</td>\n      <td>None</td>\n    </tr>\n    <tr>\n      <th>208</th>\n      <td>Margaret Johnson</td>\n      <td>None</td>\n      <td>None</td>\n      <td>None</td>\n      <td>None</td>\n      <td>None</td>\n      <td>None</td>\n      <td>None</td>\n      <td>None</td>\n      <td>None</td>\n      <td>None</td>\n      <td>None</td>\n      <td>None</td>\n      <td>None</td>\n      <td>None</td>\n      <td>None</td>\n      <td>None</td>\n      <td>None</td>\n      <td>None</td>\n      <td>None</td>\n    </tr>\n    <tr>\n      <th>209</th>\n      <td>Louis Armstrong</td>\n      <td>None</td>\n      <td>None</td>\n      <td>None</td>\n      <td>None</td>\n      <td>None</td>\n      <td>None</td>\n      <td>None</td>\n      <td>None</td>\n      <td>None</td>\n      <td>None</td>\n      <td>None</td>\n      <td>None</td>\n      <td>None</td>\n      <td>None</td>\n      <td>None</td>\n      <td>None</td>\n      <td>None</td>\n      <td>None</td>\n      <td>None</td>\n    </tr>\n  </tbody>\n</table>\n</div>"
     },
     "execution_count": 3,
     "metadata": {},
     "output_type": "execute_result"
    }
   ],
   "source": [
    "max_len = tracks[\"artists\"].apply(lambda x: literal_eval(x)).apply(lambda x: len(x)).max()\n",
    "\n",
    "artists = (\n",
    "    tracks[\"artists\"]\n",
    "    .apply(lambda x: literal_eval(x))\n",
    "    .apply(lambda x: \";\".join(x))\n",
    "    .str.split(\";\", expand=True)\n",
    "    .rename(columns={num: f\"artist_{num + 1}\" for num in range(max_len + 1)})\n",
    ")\n",
    "\n",
    "artists.head()"
   ],
   "metadata": {
    "collapsed": false,
    "pycharm": {
     "name": "#%%\n"
    }
   }
  },
  {
   "cell_type": "code",
   "execution_count": 4,
   "outputs": [],
   "source": [
    "tracks_and_artists = (\n",
    "    tracks\n",
    "    .drop(columns=\"artists\")\n",
    "    .join(artists)\n",
    ")\n",
    "\n",
    "tracks_and_artists = (\n",
    "    tracks_and_artists\n",
    "    .drop(columns=[\"id_artists\", *[f\"artist_{num}\" for num in range(4, 20 + 1)]])\n",
    "    .rename(columns={\"id\": \"song_id\", \"name\": \"song_name\"})\n",
    "    .filter([\n",
    "        \"song_id\", \"song_name\", \"artist_1\", \"artist_2\", \"artist_3\", \"release_date\",\n",
    "        \"popularity\", \"duration_ms\", \"explicit\", \"danceability\", \"energy\",\n",
    "        \"loudness\", \"speechiness\", \"acousticness\", \"instrumentalness\", \"liveness\",\n",
    "        \"key\", \"valence\", \"tempo\", \"time_signature\"\n",
    "        ])\n",
    ")"
   ],
   "metadata": {
    "collapsed": false,
    "pycharm": {
     "name": "#%%\n"
    }
   }
  },
  {
   "cell_type": "code",
   "execution_count": 5,
   "outputs": [],
   "source": [
    "tracks_and_artists.to_parquet(\"../data/processed/random_tracks.parquet\")"
   ],
   "metadata": {
    "collapsed": false,
    "pycharm": {
     "name": "#%%\n"
    }
   }
  }
 ],
 "metadata": {
  "kernelspec": {
   "name": "webby",
   "language": "python",
   "display_name": "STEMDays Webby (3.10.4)"
  },
  "language_info": {
   "codemirror_mode": {
    "name": "ipython",
    "version": 3
   },
   "file_extension": ".py",
   "mimetype": "text/x-python",
   "name": "python",
   "nbconvert_exporter": "python",
   "pygments_lexer": "ipython3",
   "version": "3.9.9"
  }
 },
 "nbformat": 4,
 "nbformat_minor": 5
}